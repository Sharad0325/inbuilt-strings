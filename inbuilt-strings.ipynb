{
 "cells": [
  {
   "cell_type": "code",
   "execution_count": 1,
   "id": "16963003-d4e7-4fbf-b8d0-dccd31285f95",
   "metadata": {},
   "outputs": [
    {
     "data": {
      "text/plain": [
       "7"
      ]
     },
     "execution_count": 1,
     "metadata": {},
     "output_type": "execute_result"
    }
   ],
   "source": [
    "# What is the purpose of the len() function in Python, and how can it be used with strings?\n",
    "\n",
    "#len()>> it is used to know the how many characters available in sentence or word. it count 'blank space' as a character.\n",
    "a = \"   ok  \" # 5 blank space + 2 character\n",
    "len(a)"
   ]
  },
  {
   "cell_type": "code",
   "execution_count": 5,
   "id": "f289396c-c7c1-4cc9-a158-b9a0bc55ded0",
   "metadata": {},
   "outputs": [
    {
     "data": {
      "text/plain": [
       "8"
      ]
     },
     "execution_count": 5,
     "metadata": {},
     "output_type": "execute_result"
    }
   ],
   "source": [
    "b = \"pwskills\"\n",
    "len(b)"
   ]
  },
  {
   "cell_type": "code",
   "execution_count": 25,
   "id": "ff15215f-6ddb-41f9-958b-d6982d07b6fe",
   "metadata": {},
   "outputs": [
    {
     "data": {
      "text/plain": [
       "'sharad sharma'"
      ]
     },
     "execution_count": 25,
     "metadata": {},
     "output_type": "execute_result"
    }
   ],
   "source": [
    "# How can you concatenate two or more strings in Python, and can you provide an example of string concatenation?\n",
    "#concatenate >> means add two or more than two sting to conver into 1 single string.\n",
    "name = \"sharad\"\n",
    "surname = \"sharma\"\n",
    "name +\" \"+surname"
   ]
  },
  {
   "cell_type": "code",
   "execution_count": 27,
   "id": "bc10dee4-b30e-4c07-923e-baee98b2bab2",
   "metadata": {},
   "outputs": [
    {
     "data": {
      "text/plain": [
       "' name '"
      ]
     },
     "execution_count": 27,
     "metadata": {},
     "output_type": "execute_result"
    }
   ],
   "source": [
    "# What is string slicing in Python, and how can you extract a portion of a string using this method?\n",
    "#slicing >> it is used to extract some part of a string.it give users to access the specific range of element by metniining their indices.\n",
    "#stntax >> [start:stop:step]\n",
    "sen = \"my name is sharad sharma\"\n",
    "sen[2:8] # 2 included and 8 excluded"
   ]
  },
  {
   "cell_type": "code",
   "execution_count": 31,
   "id": "04aced78-f688-48e3-a399-e0afe17eddd1",
   "metadata": {},
   "outputs": [
    {
     "data": {
      "text/plain": [
       "'MY NAME IS SHARAD SHARMA'"
      ]
     },
     "execution_count": 31,
     "metadata": {},
     "output_type": "execute_result"
    }
   ],
   "source": [
    "#How can you change the case of a string in Python, and can you provide examples of both making a string all uppercase and all lowercase?\n",
    "sen = \"My Name is Sharad Sharma\"\n",
    "sen.upper() # convert all character into upper case."
   ]
  },
  {
   "cell_type": "code",
   "execution_count": 33,
   "id": "35b63aca-174b-4464-8a93-33aa94467666",
   "metadata": {},
   "outputs": [
    {
     "data": {
      "text/plain": [
       "'my name is sharad sharma'"
      ]
     },
     "execution_count": 33,
     "metadata": {},
     "output_type": "execute_result"
    }
   ],
   "source": [
    "sen.lower() # convert all character into lower case."
   ]
  },
  {
   "cell_type": "code",
   "execution_count": 55,
   "id": "ebf94b78-1fba-4d6d-ba20-fc236d1fedfd",
   "metadata": {},
   "outputs": [
    {
     "data": {
      "text/plain": [
       "'ajay,rahul,sharad,vijay'"
      ]
     },
     "execution_count": 55,
     "metadata": {},
     "output_type": "execute_result"
    }
   ],
   "source": [
    "# What does the split() method do in Python, and how can you split a string using a specific delimiter?\n",
    "name = \"ajay,rahul,sharad,vijay\"\n",
    "name"
   ]
  },
  {
   "cell_type": "code",
   "execution_count": 59,
   "id": "712dc230-fcc2-476a-af86-d6f85f0ced05",
   "metadata": {},
   "outputs": [
    {
     "data": {
      "text/plain": [
       "['ajay', 'rahul', 'sharad', 'vijay']"
      ]
     },
     "execution_count": 59,
     "metadata": {},
     "output_type": "execute_result"
    }
   ],
   "source": [
    "name.split(\",\")"
   ]
  },
  {
   "cell_type": "code",
   "execution_count": 65,
   "id": "5459d84a-76f1-4b23-96bb-c5ee3b82696b",
   "metadata": {},
   "outputs": [
    {
     "data": {
      "text/plain": [
       "'science.web dev.ds.maths.ml'"
      ]
     },
     "execution_count": 65,
     "metadata": {},
     "output_type": "execute_result"
    }
   ],
   "source": [
    "subject = \"science.web dev.ds.maths.ml\"\n",
    "subject"
   ]
  },
  {
   "cell_type": "code",
   "execution_count": 67,
   "id": "6c793086-cbbc-4049-abee-6fa883bec919",
   "metadata": {},
   "outputs": [
    {
     "data": {
      "text/plain": [
       "['science', 'web dev', 'ds', 'maths', 'ml']"
      ]
     },
     "execution_count": 67,
     "metadata": {},
     "output_type": "execute_result"
    }
   ],
   "source": [
    "subject.split(\".\")"
   ]
  }
 ],
 "metadata": {
  "kernelspec": {
   "display_name": "Python 3 (ipykernel)",
   "language": "python",
   "name": "python3"
  },
  "language_info": {
   "codemirror_mode": {
    "name": "ipython",
    "version": 3
   },
   "file_extension": ".py",
   "mimetype": "text/x-python",
   "name": "python",
   "nbconvert_exporter": "python",
   "pygments_lexer": "ipython3",
   "version": "3.12.4"
  }
 },
 "nbformat": 4,
 "nbformat_minor": 5
}
